{
 "cells": [
  {
   "cell_type": "code",
   "execution_count": null,
   "id": "657c400b",
   "metadata": {},
   "outputs": [],
   "source": [
    "%matplotlib inline\n",
    "import numpy as np\n",
    "import scipy as sp\n",
    "import pandas as pd\n",
    "import matplotlib.pyplot as plt\n",
    "import seaborn as sns\n",
    "import os\n",
    "import wget\n",
    "import os\n",
    "import zipfile\n",
    "from sklearn.linear_model import LinearRegression\n",
    "from tqdm import tqdm\n",
    "from numpy import random\n",
    "from scipy.stats import binom\n",
    "import scipy.stats as stats\n",
    "from statsmodels.tsa.arima_process import ArmaProcess\n",
    "from scipy.special import digamma,polygamma\n",
    "from scipy.linalg import sqrtm\n",
    "from tqdm import tqdm\n",
    "from datetime import datetime"
   ]
  },
  {
   "cell_type": "code",
   "execution_count": null,
   "id": "51242098",
   "metadata": {},
   "outputs": [],
   "source": [
    "from nonparam_compositional_cpd.nonparametric_beta_ar_change_point_tester import NonparametricBetaARChangePointTester\n",
    "from nonparam_compositional_cpd.threshold_generator import ThresholdGenerator"
   ]
  },
  {
   "cell_type": "markdown",
   "id": "e90573b5",
   "metadata": {},
   "source": [
    "# Method comparison"
   ]
  },
  {
   "cell_type": "code",
   "execution_count": null,
   "id": "f5f8450d",
   "metadata": {},
   "outputs": [],
   "source": [
    "# Nonparametric change-point detection"
   ]
  },
  {
   "cell_type": "code",
   "execution_count": null,
   "id": "4163cf4f",
   "metadata": {},
   "outputs": [],
   "source": [
    "m=400\n",
    "N= np.round(len(Y)/m-1, 2)\n",
    "grid = 5\n",
    "length = 10\n",
    "nIteration = 500\n",
    "gamma_vector = [0,0.25,0.4]\n",
    "A = np.eye(grid)\n",
    "\n",
    "detected_point = []\n",
    "for i in range(200, 300):\n",
    "    if i%5==0:\n",
    "        print(F\"Processing the {str(i)} dataset.\")\n",
    "    Y = pd.read_csv(f\"{os.getcwd()}/ds/Ha_X_datasets/X_seed_{str(i)}.csv\")\n",
    "    Y.columns = [\"per\"]\n",
    "    yrend_in = 2010\n",
    "    Y[\"year\"] = [yrend_in]*m + [yrend_in+10] * (len(Y)-m)\n",
    "\n",
    "    yr_data = {\"yrend_in\": yrend_in, \"yrstart_mon\": yrend_in + 10}\n",
    "\n",
    "    y_list = Y.per.iloc[:m]\n",
    "    est = ThresholdGenerator(grid=grid, length=length)\n",
    "    thresholds, quantiles, x_quants, quantile_map, A = est.threshold_generation_given_seq(y_list, N, nIteration, gamma_values=gamma_vector)\n",
    "    est = NonparametricBetaARChangePointTester(m, N, grid, thresholds, quantile_map, gamma_vector, A)\n",
    "    results = est.run_test(Y.per)\n",
    "    detected_point.append(results[0])"
   ]
  },
  {
   "cell_type": "code",
   "execution_count": null,
   "id": "71c30cb4",
   "metadata": {},
   "outputs": [],
   "source": [
    "nonparam_results = pd.DataFrame(detected_point)\n",
    "nonparam_results.columns=[\"gamma0\", \"gamma025\", \"gamma04\"]"
   ]
  },
  {
   "cell_type": "code",
   "execution_count": null,
   "id": "34914ffa",
   "metadata": {},
   "outputs": [],
   "source": [
    "# Shewhart"
   ]
  },
  {
   "cell_type": "code",
   "execution_count": null,
   "id": "ab887e1e",
   "metadata": {},
   "outputs": [],
   "source": [
    "def generate_limits(y_list, C):\n",
    "    mu_0 = np.mean(y_list)\n",
    "    std_0 = np.std(y_list, ddof=1)\n",
    "    tol = C*std_0\n",
    "    lcl = mu_0-tol\n",
    "    ucl = mu_0+tol\n",
    "    \n",
    "    return lcl, ucl\n",
    "\n",
    "def detect_change_point(y_list, lcl, ucl):\n",
    "    i = 0\n",
    "    while i < len(y_list):\n",
    "        if (y_list.iloc[i] >= lcl) and (y_list.iloc[i] <= ucl):\n",
    "            i+=1\n",
    "        else:\n",
    "            return i\n",
    "    print(\"No change point detected\")"
   ]
  },
  {
   "cell_type": "code",
   "execution_count": null,
   "id": "c404c2d0",
   "metadata": {},
   "outputs": [],
   "source": [
    "m=400\n",
    "shewhart_detected_point = []\n",
    "for i in range(200, 300):\n",
    "    if i%5==0:\n",
    "        print(F\"Processing the {str(i)} dataset.\")\n",
    "    Y = pd.read_csv(f\"{os.getcwd()}/ds/Ha_X_datasets/X_seed_{str(i)}.csv\")\n",
    "    Y.columns = [\"per\"]\n",
    "    limits = generate_limits(Y.iloc[:m].per, 3.24)\n",
    "    # Detect change point\n",
    "    location = detect_change_point(Y.iloc[m:].per, limits[0], limits[1])\n",
    "    if location is not None:\n",
    "        shewhart_detected_point.append(location)\n",
    "    else:\n",
    "        shewhart_detected_point.append(None)"
   ]
  },
  {
   "cell_type": "code",
   "execution_count": null,
   "id": "c22cfa91",
   "metadata": {},
   "outputs": [],
   "source": [
    "shewhart_results = pd.DataFrame(shewhart_detected_point)"
   ]
  },
  {
   "cell_type": "code",
   "execution_count": null,
   "id": "1287aab7",
   "metadata": {},
   "outputs": [],
   "source": [
    "# EWMA"
   ]
  },
  {
   "cell_type": "code",
   "execution_count": null,
   "id": "00f01d95",
   "metadata": {},
   "outputs": [],
   "source": [
    "def detect_change_point(y_list, lcl, ucl):\n",
    "    for i in range(len(y_list)):\n",
    "        if (y_list.iloc[i] >= lcl) and (y_list.iloc[i]<= ucl):\n",
    "            pass\n",
    "        else:\n",
    "            return i\n",
    "        \n",
    "def normalize_time_series(data, target_variable_name, yr_data):\n",
    "    y_list = data[data.year <= yr_data[\"yrend_in\"]][target_variable_name]\n",
    "    mu_0 = np.mean(y_list)\n",
    "    std_0 = np.std(y_list)\n",
    "    data[target_variable_name] = (data[target_variable_name] - mu_0) / std_0\n",
    "    \n",
    "    return data\n",
    "    \n",
    "def ewma_change_point_detection(data, target_variable_name, yr_data, shift, normalized=False):\n",
    "    if normalized:\n",
    "        data = normalize_time_series(data, target_variable_name, yr_data)\n",
    "    smooth_factor, L = ewma_params[shift][0], ewma_params[shift][1]\n",
    "    data['ewma'] = data[target_variable_name].ewm(alpha=smooth_factor, adjust=False).mean()\n",
    "\n",
    "    adj_factor = np.sqrt((smooth_factor)/(2-smooth_factor))\n",
    "    ucl = L*adj_factor\n",
    "    lcl = -L*adj_factor\n",
    "    signal_location = detect_change_point(data[data.year >= yr_data[\"yrstart_mon\"]][\"ewma\"], lcl, ucl)\n",
    "    return signal_location"
   ]
  },
  {
   "cell_type": "code",
   "execution_count": null,
   "id": "c22d4a74",
   "metadata": {},
   "outputs": [],
   "source": [
    "ewma_params = {\"small\": (0.05, 3.6), \"medium\": (0.14, 3.42), \"large\": (0.25, 3.35)}"
   ]
  },
  {
   "cell_type": "code",
   "execution_count": null,
   "id": "3baacec1",
   "metadata": {},
   "outputs": [],
   "source": [
    "m=400\n",
    "N= np.round(len(Y)/m-1, 2)\n",
    "grid = 5\n",
    "length = 10\n",
    "nIteration = 500\n",
    "gamma_vector = [0,0.25,0.4]\n",
    "A = np.eye(grid)\n",
    "\n",
    "ewma_detected_point = []\n",
    "for i in range(200, 300):\n",
    "    if i%5==0:\n",
    "        print(F\"Processing the {str(i)} dataset.\")\n",
    "    Y = pd.read_csv(f\"{os.getcwd()}/ds/Ha_X_datasets/X_seed_{str(i)}.csv\")\n",
    "    Y.columns = [\"per\"]\n",
    "    yrend_in = 2010\n",
    "    Y[\"year\"] = [yrend_in]*m + [yrend_in+10] * (len(Y)-m)\n",
    "\n",
    "    yr_data = {\"yrend_in\": yrend_in, \"yrstart_mon\": yrend_in + 10}\n",
    "\n",
    "    signal_location_small = ewma_change_point_detection(Y, \"per\", yr_data, shift=\"small\", normalized=True)\n",
    "    signal_location_medium = ewma_change_point_detection(Y, \"per\", yr_data, shift=\"medium\", normalized=True)\n",
    "    signal_location_large = ewma_change_point_detection(Y, \"per\", yr_data, shift=\"large\", normalized=True)\n",
    "    ewma_detected_point.append([signal_location_small, signal_location_medium, signal_location_large])"
   ]
  },
  {
   "cell_type": "code",
   "execution_count": null,
   "id": "dbbe418e",
   "metadata": {},
   "outputs": [],
   "source": [
    "ewma_results = pd.DataFrame(ewma_detected_point) + m\n",
    "ewma_results.columns=[\"small\", \"medium\", \"large\"]"
   ]
  }
 ],
 "metadata": {
  "kernelspec": {
   "display_name": "Python 3",
   "language": "python",
   "name": "python3"
  },
  "language_info": {
   "codemirror_mode": {
    "name": "ipython",
    "version": 3
   },
   "file_extension": ".py",
   "mimetype": "text/x-python",
   "name": "python",
   "nbconvert_exporter": "python",
   "pygments_lexer": "ipython3",
   "version": "3.8.8"
  }
 },
 "nbformat": 4,
 "nbformat_minor": 5
}
