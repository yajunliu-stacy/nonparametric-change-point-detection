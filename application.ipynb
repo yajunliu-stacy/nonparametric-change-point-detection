{
 "cells": [
  {
   "cell_type": "code",
   "execution_count": null,
   "id": "657c400b",
   "metadata": {},
   "outputs": [],
   "source": [
    "%matplotlib inline\n",
    "import numpy as np\n",
    "import scipy as sp\n",
    "import pandas as pd\n",
    "import matplotlib.pyplot as plt\n",
    "import seaborn as sns\n",
    "import os\n",
    "import wget\n",
    "import os\n",
    "import zipfile\n",
    "from sklearn.linear_model import LinearRegression\n",
    "from tqdm import tqdm\n",
    "from numpy import random\n",
    "from scipy.stats import binom\n",
    "import scipy.stats as stats\n",
    "from statsmodels.tsa.arima_process import ArmaProcess\n",
    "from scipy.special import digamma,polygamma\n",
    "from scipy.linalg import sqrtm\n",
    "from tqdm import tqdm\n",
    "from datetime import datetime"
   ]
  },
  {
   "cell_type": "code",
   "execution_count": null,
   "id": "51242098",
   "metadata": {},
   "outputs": [],
   "source": [
    "from nonparam_compositional_cpd.nonparametric_beta_ar_change_point_tester import NonparametricBetaARChangePointTester\n",
    "from nonparam_compositional_cpd.threshold_generator import ThresholdGenerator"
   ]
  },
  {
   "cell_type": "markdown",
   "id": "7c5ebcf8",
   "metadata": {},
   "source": [
    "# data downloading and preprocessing"
   ]
  },
  {
   "cell_type": "markdown",
   "id": "e959f846",
   "metadata": {},
   "source": [
    "# Visualization"
   ]
  },
  {
   "cell_type": "code",
   "execution_count": null,
   "id": "eca262d3",
   "metadata": {},
   "outputs": [],
   "source": [
    "save_adj_dk = pd.read_csv('adj_dk_2010_2020.csv')\n",
    "\n",
    "save_adj_dk['date'] = [str(save_adj_dk.year.iloc[i])+'-'+str(save_adj_dk.month.iloc[i]) for i in range(len(save_adj_dk))]\n",
    "save_adj_dk.date = pd.to_datetime(save_adj_dk.date)"
   ]
  },
  {
   "cell_type": "code",
   "execution_count": null,
   "id": "df69920a",
   "metadata": {
    "scrolled": true
   },
   "outputs": [],
   "source": [
    "save_adj_dk.plot(\"date\", \"per\", label=\"alcohol involved crash rate\")\n",
    "plt.gcf().autofmt_xdate()\n",
    "plt.grid()\n",
    "plt.xlabel('Date')\n",
    "plt.ylabel('Alcohol involved crash rate')"
   ]
  },
  {
   "cell_type": "markdown",
   "id": "e90573b5",
   "metadata": {},
   "source": [
    "# Nonparametric monitoring"
   ]
  },
  {
   "cell_type": "code",
   "execution_count": null,
   "id": "e331a9d8",
   "metadata": {},
   "outputs": [],
   "source": [
    "yrstart_in = 2010\n",
    "yrend_in   = 2018\n",
    "yrstart_mon= 2019\n",
    "yrend_mon  = 2020"
   ]
  },
  {
   "cell_type": "code",
   "execution_count": null,
   "id": "0d97f8a4",
   "metadata": {},
   "outputs": [],
   "source": [
    "m = (yrend_in- yrstart_in+1)*12\n",
    "Nm = (yrend_mon- yrstart_mon+1)*12\n",
    "N = Nm/m\n",
    "\n",
    "per_adj = save_adj_dk[save_adj_dk.year>=yrstart_in].per_adj\n",
    "\n",
    "grid = 5\n",
    "length = 20\n",
    "nIteration = 10000\n",
    "gamma_vector = [0,0.25,0.4]\n",
    "A = np.eye(grid)/grid\n",
    "y_list = per_adj[:m]\n",
    "est = ThresholdGenerator(grid=grid, length=length)\n",
    "thresholds, quantiles, x_quants, quantile_map, A = est.threshold_generation_given_seq(y_list, N, nIteration, A=A, gamma_values=gamma_vector)\n",
    "\n",
    "\n",
    "# thres, quan_list, x_quan_list, quan_map, A = threshold_generation_given_seq(y_list, N,grid, length, nIteration, A)\n"
   ]
  },
  {
   "cell_type": "code",
   "execution_count": null,
   "id": "8a2dbbc6",
   "metadata": {},
   "outputs": [],
   "source": [
    "est = NonparametricBetaARChangePointTester(m, N, grid, thresholds, quantile_map, gamma_vector, A)\n",
    "results = est.run_test(per_adj)\n",
    "results"
   ]
  },
  {
   "cell_type": "code",
   "execution_count": null,
   "id": "265f82bf",
   "metadata": {},
   "outputs": [],
   "source": [
    "save_adj_dk.iloc[results[0][0]]"
   ]
  },
  {
   "cell_type": "markdown",
   "id": "3b046897",
   "metadata": {},
   "source": [
    "# CPI-AB processing and change point detection"
   ]
  },
  {
   "cell_type": "code",
   "execution_count": null,
   "id": "04c77e4c",
   "metadata": {},
   "outputs": [],
   "source": [
    "# CPI alcohol beverage and accidents involved drinking\n",
    "filename = 'CUSR.csv'\n",
    "cpi = pd.read_csv(filename)"
   ]
  },
  {
   "cell_type": "code",
   "execution_count": null,
   "id": "0319f456",
   "metadata": {},
   "outputs": [],
   "source": [
    "cpi.DATE = pd.to_datetime(cpi.DATE)\n",
    "cpi['year'] = cpi.DATE.dt.year\n",
    "cpi['month']= cpi.DATE.dt.month\n",
    "cpi.columns = ['date', 'cpi_per','year','month']\n",
    "\n",
    "cpi.date = pd.to_datetime(cpi.date)"
   ]
  },
  {
   "cell_type": "code",
   "execution_count": null,
   "id": "55e21fc5",
   "metadata": {},
   "outputs": [],
   "source": [
    "cpi_sub = cpi.merge(save_adj_dk, on=[\"year\", \"month\"], how=\"inner\")"
   ]
  },
  {
   "cell_type": "code",
   "execution_count": null,
   "id": "ec5fa92f",
   "metadata": {},
   "outputs": [],
   "source": [
    "cpi_sub.plot(x=\"date_x\", y=\"cpi_per\", label=\"CPI-AB\")\n",
    "\n",
    "# Format x-axis dates\n",
    "plt.gcf().autofmt_xdate()\n",
    "\n",
    "# Set major ticks to show every year\n",
    "ax = plt.gca()\n",
    "\n",
    "# Add grid and labels\n",
    "plt.grid()\n",
    "plt.xlabel('Date')\n",
    "plt.ylabel('Percentage change from year ago (%)')"
   ]
  }
 ],
 "metadata": {
  "kernelspec": {
   "display_name": "Python 3",
   "language": "python",
   "name": "python3"
  },
  "language_info": {
   "codemirror_mode": {
    "name": "ipython",
    "version": 3
   },
   "file_extension": ".py",
   "mimetype": "text/x-python",
   "name": "python",
   "nbconvert_exporter": "python",
   "pygments_lexer": "ipython3",
   "version": "3.8.8"
  }
 },
 "nbformat": 4,
 "nbformat_minor": 5
}
